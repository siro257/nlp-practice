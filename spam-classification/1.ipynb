{
 "cells": [
  {
   "cell_type": "code",
   "execution_count": 1,
   "metadata": {},
   "outputs": [],
   "source": [
    "import pandas as pd\n",
    "import matplotlib.pyplot as plt\n",
    "import numpy as np\n",
    "import seaborn as sns"
   ]
  },
  {
   "cell_type": "code",
   "execution_count": 2,
   "metadata": {},
   "outputs": [],
   "source": [
    "df = pd.read_csv('./data/SMSSpamCollection', sep='\\t', header=None, names=['label', 'sentence'])"
   ]
  },
  {
   "cell_type": "code",
   "execution_count": 3,
   "metadata": {},
   "outputs": [
    {
     "data": {
      "text/html": [
       "<div>\n",
       "<style scoped>\n",
       "    .dataframe tbody tr th:only-of-type {\n",
       "        vertical-align: middle;\n",
       "    }\n",
       "\n",
       "    .dataframe tbody tr th {\n",
       "        vertical-align: top;\n",
       "    }\n",
       "\n",
       "    .dataframe thead th {\n",
       "        text-align: right;\n",
       "    }\n",
       "</style>\n",
       "<table border=\"1\" class=\"dataframe\">\n",
       "  <thead>\n",
       "    <tr style=\"text-align: right;\">\n",
       "      <th></th>\n",
       "      <th>label</th>\n",
       "      <th>sentence</th>\n",
       "    </tr>\n",
       "  </thead>\n",
       "  <tbody>\n",
       "    <tr>\n",
       "      <th>0</th>\n",
       "      <td>ham</td>\n",
       "      <td>Go until jurong point, crazy.. Available only ...</td>\n",
       "    </tr>\n",
       "    <tr>\n",
       "      <th>1</th>\n",
       "      <td>ham</td>\n",
       "      <td>Ok lar... Joking wif u oni...</td>\n",
       "    </tr>\n",
       "    <tr>\n",
       "      <th>2</th>\n",
       "      <td>spam</td>\n",
       "      <td>Free entry in 2 a wkly comp to win FA Cup fina...</td>\n",
       "    </tr>\n",
       "    <tr>\n",
       "      <th>3</th>\n",
       "      <td>ham</td>\n",
       "      <td>U dun say so early hor... U c already then say...</td>\n",
       "    </tr>\n",
       "    <tr>\n",
       "      <th>4</th>\n",
       "      <td>ham</td>\n",
       "      <td>Nah I don't think he goes to usf, he lives aro...</td>\n",
       "    </tr>\n",
       "  </tbody>\n",
       "</table>\n",
       "</div>"
      ],
      "text/plain": [
       "  label                                           sentence\n",
       "0   ham  Go until jurong point, crazy.. Available only ...\n",
       "1   ham                      Ok lar... Joking wif u oni...\n",
       "2  spam  Free entry in 2 a wkly comp to win FA Cup fina...\n",
       "3   ham  U dun say so early hor... U c already then say...\n",
       "4   ham  Nah I don't think he goes to usf, he lives aro..."
      ]
     },
     "execution_count": 3,
     "metadata": {},
     "output_type": "execute_result"
    }
   ],
   "source": [
    "df.head()"
   ]
  },
  {
   "cell_type": "code",
   "execution_count": 4,
   "metadata": {},
   "outputs": [
    {
     "data": {
      "text/html": [
       "<div>\n",
       "<style scoped>\n",
       "    .dataframe tbody tr th:only-of-type {\n",
       "        vertical-align: middle;\n",
       "    }\n",
       "\n",
       "    .dataframe tbody tr th {\n",
       "        vertical-align: top;\n",
       "    }\n",
       "\n",
       "    .dataframe thead th {\n",
       "        text-align: right;\n",
       "    }\n",
       "</style>\n",
       "<table border=\"1\" class=\"dataframe\">\n",
       "  <thead>\n",
       "    <tr style=\"text-align: right;\">\n",
       "      <th></th>\n",
       "      <th>label</th>\n",
       "      <th>sentence</th>\n",
       "    </tr>\n",
       "  </thead>\n",
       "  <tbody>\n",
       "    <tr>\n",
       "      <th>count</th>\n",
       "      <td>5572</td>\n",
       "      <td>5572</td>\n",
       "    </tr>\n",
       "    <tr>\n",
       "      <th>unique</th>\n",
       "      <td>2</td>\n",
       "      <td>5169</td>\n",
       "    </tr>\n",
       "    <tr>\n",
       "      <th>top</th>\n",
       "      <td>ham</td>\n",
       "      <td>Sorry, I'll call later</td>\n",
       "    </tr>\n",
       "    <tr>\n",
       "      <th>freq</th>\n",
       "      <td>4825</td>\n",
       "      <td>30</td>\n",
       "    </tr>\n",
       "  </tbody>\n",
       "</table>\n",
       "</div>"
      ],
      "text/plain": [
       "       label                sentence\n",
       "count   5572                    5572\n",
       "unique     2                    5169\n",
       "top      ham  Sorry, I'll call later\n",
       "freq    4825                      30"
      ]
     },
     "execution_count": 4,
     "metadata": {},
     "output_type": "execute_result"
    }
   ],
   "source": [
    "df.describe()"
   ]
  },
  {
   "cell_type": "code",
   "execution_count": 5,
   "metadata": {},
   "outputs": [
    {
     "data": {
      "text/html": [
       "<div>\n",
       "<style scoped>\n",
       "    .dataframe tbody tr th:only-of-type {\n",
       "        vertical-align: middle;\n",
       "    }\n",
       "\n",
       "    .dataframe tbody tr th {\n",
       "        vertical-align: top;\n",
       "    }\n",
       "\n",
       "    .dataframe thead th {\n",
       "        text-align: right;\n",
       "    }\n",
       "</style>\n",
       "<table border=\"1\" class=\"dataframe\">\n",
       "  <thead>\n",
       "    <tr style=\"text-align: right;\">\n",
       "      <th></th>\n",
       "      <th>label</th>\n",
       "      <th>ham</th>\n",
       "      <th>spam</th>\n",
       "    </tr>\n",
       "  </thead>\n",
       "  <tbody>\n",
       "    <tr>\n",
       "      <th rowspan=\"4\" valign=\"top\">sentence</th>\n",
       "      <th>count</th>\n",
       "      <td>4825</td>\n",
       "      <td>747</td>\n",
       "    </tr>\n",
       "    <tr>\n",
       "      <th>unique</th>\n",
       "      <td>4516</td>\n",
       "      <td>653</td>\n",
       "    </tr>\n",
       "    <tr>\n",
       "      <th>top</th>\n",
       "      <td>Sorry, I'll call later</td>\n",
       "      <td>Please call our customer service representativ...</td>\n",
       "    </tr>\n",
       "    <tr>\n",
       "      <th>freq</th>\n",
       "      <td>30</td>\n",
       "      <td>4</td>\n",
       "    </tr>\n",
       "  </tbody>\n",
       "</table>\n",
       "</div>"
      ],
      "text/plain": [
       "label                               ham  \\\n",
       "sentence count                     4825   \n",
       "         unique                    4516   \n",
       "         top     Sorry, I'll call later   \n",
       "         freq                        30   \n",
       "\n",
       "label                                                         spam  \n",
       "sentence count                                                 747  \n",
       "         unique                                                653  \n",
       "         top     Please call our customer service representativ...  \n",
       "         freq                                                    4  "
      ]
     },
     "execution_count": 5,
     "metadata": {},
     "output_type": "execute_result"
    }
   ],
   "source": [
    "df.groupby('label').describe().T"
   ]
  },
  {
   "cell_type": "code",
   "execution_count": 6,
   "metadata": {},
   "outputs": [
    {
     "name": "stderr",
     "output_type": "stream",
     "text": [
      "/Users/siro/miniforge3/lib/python3.9/site-packages/seaborn/_decorators.py:36: FutureWarning: Pass the following variable as a keyword arg: x. From version 0.12, the only valid positional argument will be `data`, and passing other arguments without an explicit keyword will result in an error or misinterpretation.\n",
      "  warnings.warn(\n"
     ]
    },
    {
     "data": {
      "text/plain": [
       "<AxesSubplot:xlabel='label', ylabel='count'>"
      ]
     },
     "execution_count": 6,
     "metadata": {},
     "output_type": "execute_result"
    },
    {
     "data": {
      "image/png": "[encoded data removed]",
      "text/plain": [
       "<Figure size 864x576 with 1 Axes>"
      ]
     },
     "metadata": {
      "needs_background": "light"
     },
     "output_type": "display_data"
    }
   ],
   "source": [
    "plt.figure(figsize=(12,8))\n",
    "plt.style.use('seaborn')\n",
    "sns.countplot(df.label)"
   ]
  },
  {
   "cell_type": "code",
   "execution_count": 7,
   "metadata": {},
   "outputs": [],
   "source": [
    "ham_msg = df[df.label=='ham']\n",
    "spam_msg = df[df.label=='spam']"
   ]
  },
  {
   "cell_type": "code",
   "execution_count": 8,
   "metadata": {},
   "outputs": [
    {
     "data": {
      "text/plain": [
       "((747, 2), (747, 2))"
      ]
     },
     "execution_count": 8,
     "metadata": {},
     "output_type": "execute_result"
    }
   ],
   "source": [
    "ham_msg_df = ham_msg.sample(n=len(spam_msg), random_state=1234)\n",
    "spam_msg_df = spam_msg\n",
    "\n",
    "ham_msg_df.shape, spam_msg_df.shape"
   ]
  },
  {
   "cell_type": "code",
   "execution_count": 9,
   "metadata": {},
   "outputs": [
    {
     "name": "stderr",
     "output_type": "stream",
     "text": [
      "/var/folders/gt/7y0tcygj491f_y94sg701tvc0000gn/T/ipykernel_59337/1154608761.py:1: FutureWarning: The frame.append method is deprecated and will be removed from pandas in a future version. Use pandas.concat instead.\n",
      "  msg_df = ham_msg_df.append(spam_msg_df).reset_index(drop=True)\n"
     ]
    }
   ],
   "source": [
    "msg_df = ham_msg_df.append(spam_msg_df).reset_index(drop=True)"
   ]
  },
  {
   "cell_type": "code",
   "execution_count": 10,
   "metadata": {},
   "outputs": [
    {
     "name": "stderr",
     "output_type": "stream",
     "text": [
      "/Users/siro/miniforge3/lib/python3.9/site-packages/seaborn/_decorators.py:36: FutureWarning: Pass the following variable as a keyword arg: x. From version 0.12, the only valid positional argument will be `data`, and passing other arguments without an explicit keyword will result in an error or misinterpretation.\n",
      "  warnings.warn(\n"
     ]
    },
    {
     "data": {
      "text/plain": [
       "<AxesSubplot:xlabel='label', ylabel='count'>"
      ]
     },
     "execution_count": 10,
     "metadata": {},
     "output_type": "execute_result"
    },
    {
     "data": {
      "image/png": "[encoded data removed]",
      "text/plain": [
       "<Figure size 576x396 with 1 Axes>"
      ]
     },
     "metadata": {},
     "output_type": "display_data"
    }
   ],
   "source": [
    "sns.countplot(msg_df.label)"
   ]
  },
  {
   "cell_type": "code",
   "execution_count": 11,
   "metadata": {},
   "outputs": [],
   "source": [
    "msg_df['msg_type'] = msg_df.label.map({'ham': 0, 'spam': 1})"
   ]
  },
  {
   "cell_type": "code",
   "execution_count": 12,
   "metadata": {},
   "outputs": [
    {
     "data": {
      "text/html": [
       "<div>\n",
       "<style scoped>\n",
       "    .dataframe tbody tr th:only-of-type {\n",
       "        vertical-align: middle;\n",
       "    }\n",
       "\n",
       "    .dataframe tbody tr th {\n",
       "        vertical-align: top;\n",
       "    }\n",
       "\n",
       "    .dataframe thead th {\n",
       "        text-align: right;\n",
       "    }\n",
       "</style>\n",
       "<table border=\"1\" class=\"dataframe\">\n",
       "  <thead>\n",
       "    <tr style=\"text-align: right;\">\n",
       "      <th></th>\n",
       "      <th>label</th>\n",
       "      <th>sentence</th>\n",
       "      <th>msg_type</th>\n",
       "    </tr>\n",
       "  </thead>\n",
       "  <tbody>\n",
       "    <tr>\n",
       "      <th>0</th>\n",
       "      <td>ham</td>\n",
       "      <td>She went to attend another two rounds today..b...</td>\n",
       "      <td>0</td>\n",
       "    </tr>\n",
       "    <tr>\n",
       "      <th>1</th>\n",
       "      <td>ham</td>\n",
       "      <td>In which place i can get rooms cheap:-)</td>\n",
       "      <td>0</td>\n",
       "    </tr>\n",
       "    <tr>\n",
       "      <th>2</th>\n",
       "      <td>ham</td>\n",
       "      <td>She was supposed to be but couldn't make it, s...</td>\n",
       "      <td>0</td>\n",
       "    </tr>\n",
       "    <tr>\n",
       "      <th>3</th>\n",
       "      <td>ham</td>\n",
       "      <td>Baaaaaaaabe! Wake up ! I miss you ! I crave yo...</td>\n",
       "      <td>0</td>\n",
       "    </tr>\n",
       "    <tr>\n",
       "      <th>4</th>\n",
       "      <td>ham</td>\n",
       "      <td>Also that chat was awesome but don't make it r...</td>\n",
       "      <td>0</td>\n",
       "    </tr>\n",
       "  </tbody>\n",
       "</table>\n",
       "</div>"
      ],
      "text/plain": [
       "  label                                           sentence  msg_type\n",
       "0   ham  She went to attend another two rounds today..b...         0\n",
       "1   ham            In which place i can get rooms cheap:-)         0\n",
       "2   ham  She was supposed to be but couldn't make it, s...         0\n",
       "3   ham  Baaaaaaaabe! Wake up ! I miss you ! I crave yo...         0\n",
       "4   ham  Also that chat was awesome but don't make it r...         0"
      ]
     },
     "execution_count": 12,
     "metadata": {},
     "output_type": "execute_result"
    }
   ],
   "source": [
    "msg_df.head()"
   ]
  },
  {
   "cell_type": "code",
   "execution_count": 13,
   "metadata": {},
   "outputs": [
    {
     "data": {
      "text/html": [
       "<div>\n",
       "<style scoped>\n",
       "    .dataframe tbody tr th:only-of-type {\n",
       "        vertical-align: middle;\n",
       "    }\n",
       "\n",
       "    .dataframe tbody tr th {\n",
       "        vertical-align: top;\n",
       "    }\n",
       "\n",
       "    .dataframe thead th {\n",
       "        text-align: right;\n",
       "    }\n",
       "</style>\n",
       "<table border=\"1\" class=\"dataframe\">\n",
       "  <thead>\n",
       "    <tr style=\"text-align: right;\">\n",
       "      <th></th>\n",
       "      <th>label</th>\n",
       "      <th>sentence</th>\n",
       "      <th>msg_type</th>\n",
       "    </tr>\n",
       "  </thead>\n",
       "  <tbody>\n",
       "    <tr>\n",
       "      <th>0</th>\n",
       "      <td>ham</td>\n",
       "      <td>Be happy there. I will come after noon</td>\n",
       "      <td>0</td>\n",
       "    </tr>\n",
       "    <tr>\n",
       "      <th>1</th>\n",
       "      <td>spam</td>\n",
       "      <td>You are a £1000 winner or Guaranteed Caller Pr...</td>\n",
       "      <td>1</td>\n",
       "    </tr>\n",
       "    <tr>\n",
       "      <th>2</th>\n",
       "      <td>ham</td>\n",
       "      <td>Huh so early.. Then ü having dinner outside iz...</td>\n",
       "      <td>0</td>\n",
       "    </tr>\n",
       "    <tr>\n",
       "      <th>3</th>\n",
       "      <td>spam</td>\n",
       "      <td>URGENT! This is the 2nd attempt to contact U!U...</td>\n",
       "      <td>1</td>\n",
       "    </tr>\n",
       "    <tr>\n",
       "      <th>4</th>\n",
       "      <td>spam</td>\n",
       "      <td>Please CALL 08712402578 immediately as there i...</td>\n",
       "      <td>1</td>\n",
       "    </tr>\n",
       "    <tr>\n",
       "      <th>...</th>\n",
       "      <td>...</td>\n",
       "      <td>...</td>\n",
       "      <td>...</td>\n",
       "    </tr>\n",
       "    <tr>\n",
       "      <th>1489</th>\n",
       "      <td>ham</td>\n",
       "      <td>We r outside already.</td>\n",
       "      <td>0</td>\n",
       "    </tr>\n",
       "    <tr>\n",
       "      <th>1490</th>\n",
       "      <td>spam</td>\n",
       "      <td>Wanna have a laugh? Try CHIT-CHAT on your mobi...</td>\n",
       "      <td>1</td>\n",
       "    </tr>\n",
       "    <tr>\n",
       "      <th>1491</th>\n",
       "      <td>ham</td>\n",
       "      <td>Ok. Me watching tv too.</td>\n",
       "      <td>0</td>\n",
       "    </tr>\n",
       "    <tr>\n",
       "      <th>1492</th>\n",
       "      <td>spam</td>\n",
       "      <td>Did you hear about the new \"Divorce Barbie\"? I...</td>\n",
       "      <td>1</td>\n",
       "    </tr>\n",
       "    <tr>\n",
       "      <th>1493</th>\n",
       "      <td>spam</td>\n",
       "      <td>FREE MESSAGE Activate your 500 FREE Text Messa...</td>\n",
       "      <td>1</td>\n",
       "    </tr>\n",
       "  </tbody>\n",
       "</table>\n",
       "<p>1494 rows × 3 columns</p>\n",
       "</div>"
      ],
      "text/plain": [
       "     label                                           sentence  msg_type\n",
       "0      ham             Be happy there. I will come after noon         0\n",
       "1     spam  You are a £1000 winner or Guaranteed Caller Pr...         1\n",
       "2      ham  Huh so early.. Then ü having dinner outside iz...         0\n",
       "3     spam  URGENT! This is the 2nd attempt to contact U!U...         1\n",
       "4     spam  Please CALL 08712402578 immediately as there i...         1\n",
       "...    ...                                                ...       ...\n",
       "1489   ham                              We r outside already.         0\n",
       "1490  spam  Wanna have a laugh? Try CHIT-CHAT on your mobi...         1\n",
       "1491   ham                            Ok. Me watching tv too.         0\n",
       "1492  spam  Did you hear about the new \"Divorce Barbie\"? I...         1\n",
       "1493  spam  FREE MESSAGE Activate your 500 FREE Text Messa...         1\n",
       "\n",
       "[1494 rows x 3 columns]"
      ]
     },
     "execution_count": 13,
     "metadata": {},
     "output_type": "execute_result"
    }
   ],
   "source": [
    "from sklearn.utils import shuffle\n",
    "\n",
    "shuffle(msg_df).reset_index(drop=True)"
   ]
  },
  {
   "cell_type": "code",
   "execution_count": 14,
   "metadata": {},
   "outputs": [],
   "source": [
    "from sklearn.model_selection import train_test_split\n",
    "\n",
    "X_train, X_test, y_train, y_test = train_test_split(msg_df.sentence, msg_df.msg_type.values, test_size=0.2, random_state=34)"
   ]
  },
  {
   "cell_type": "code",
   "execution_count": 15,
   "metadata": {},
   "outputs": [
    {
     "data": {
      "text/plain": [
       "583     Lol. Well quality aint bad at all so i aint co...\n",
       "105     Is it ok if I stay the night here? Xavier has ...\n",
       "413     Goodmorning today i am late for  &lt;DECIMAL&g...\n",
       "329     Guess who spent all last night phasing in and ...\n",
       "375     Yup... Hey then one day on fri we can ask miwa...\n",
       "                              ...                        \n",
       "324                Am i that much bad to avoid like this?\n",
       "1109    8007 FREE for 1st week! No1 Nokia tone 4 ur mo...\n",
       "490     Awesome question with a cute answer: Someone a...\n",
       "1146    Sorry! U can not unsubscribe yet. THE MOB offe...\n",
       "1441         PRIVATE! Your 2003 Account Statement for 078\n",
       "Name: sentence, Length: 1195, dtype: object"
      ]
     },
     "execution_count": 15,
     "metadata": {},
     "output_type": "execute_result"
    }
   ],
   "source": [
    "X_train"
   ]
  },
  {
   "cell_type": "code",
   "execution_count": 16,
   "metadata": {},
   "outputs": [],
   "source": [
    "max_len = 100\n",
    "trunc_type = 'post'\n",
    "pad_type ='post'\n",
    "oov_tok = '<OOV>'\n",
    "vocab_size = 500"
   ]
  },
  {
   "cell_type": "code",
   "execution_count": 17,
   "metadata": {},
   "outputs": [],
   "source": [
    "import tensorflow as tf\n",
    "from tensorflow.keras.preprocessing.text import Tokenizer"
   ]
  },
  {
   "cell_type": "code",
   "execution_count": 18,
   "metadata": {},
   "outputs": [],
   "source": [
    "tokenizer = Tokenizer(num_words=vocab_size, char_level=False, oov_token=oov_tok)\n",
    "tokenizer.fit_on_texts(X_train)"
   ]
  },
  {
   "cell_type": "code",
   "execution_count": 19,
   "metadata": {},
   "outputs": [
    {
     "name": "stdout",
     "output_type": "stream",
     "text": [
      "4112\n"
     ]
    }
   ],
   "source": [
    "word2idx = tokenizer.word_index\n",
    "print(len(word2idx))"
   ]
  },
  {
   "cell_type": "code",
   "execution_count": 20,
   "metadata": {},
   "outputs": [],
   "source": [
    "from tensorflow.keras.preprocessing.sequence import pad_sequences\n",
    "\n",
    "train_seq = tokenizer.texts_to_sequences(X_train)"
   ]
  },
  {
   "cell_type": "code",
   "execution_count": 21,
   "metadata": {},
   "outputs": [],
   "source": [
    "train_seq_padded = pad_sequences(train_seq, maxlen=max_len, padding=pad_type, truncating=trunc_type)"
   ]
  },
  {
   "cell_type": "code",
   "execution_count": 22,
   "metadata": {},
   "outputs": [],
   "source": [
    "test_seq = tokenizer.texts_to_sequences(X_test)\n",
    "test_seq_padded = pad_sequences(test_seq, maxlen=max_len, padding=pad_type, truncating=trunc_type)"
   ]
  },
  {
   "cell_type": "code",
   "execution_count": 23,
   "metadata": {},
   "outputs": [
    {
     "data": {
      "text/plain": [
       "((1195, 100), (299, 100))"
      ]
     },
     "execution_count": 23,
     "metadata": {},
     "output_type": "execute_result"
    }
   ],
   "source": [
    "train_seq_padded.shape, test_seq_padded.shape"
   ]
  },
  {
   "cell_type": "code",
   "execution_count": 25,
   "metadata": {},
   "outputs": [],
   "source": [
    "embeding_dim = 16\n",
    "drop_value = 0.2\n",
    "n_dense = 24"
   ]
  },
  {
   "cell_type": "code",
   "execution_count": 70,
   "metadata": {},
   "outputs": [
    {
     "name": "stdout",
     "output_type": "stream",
     "text": [
      "Metal device set to: Apple M1 Pro\n",
      "\n",
      "systemMemory: 16.00 GB\n",
      "maxCacheSize: 5.33 GB\n",
      "\n"
     ]
    },
    {
     "name": "stderr",
     "output_type": "stream",
     "text": [
      "2022-04-03 20:48:20.697659: I tensorflow/core/common_runtime/pluggable_device/pluggable_device_factory.cc:305] Could not identify NUMA node of platform GPU ID 0, defaulting to 0. Your kernel may not have been built with NUMA support.\n",
      "2022-04-03 20:48:20.698022: I tensorflow/core/common_runtime/pluggable_device/pluggable_device_factory.cc:271] Created TensorFlow device (/job:localhost/replica:0/task:0/device:GPU:0 with 0 MB memory) -> physical PluggableDevice (device: 0, name: METAL, pci bus id: <undefined>)\n"
     ]
    }
   ],
   "source": [
    "model = tf.keras.models.Sequential([\n",
    "    tf.keras.layers.Embedding(vocab_size, embeding_dim, input_length=max_len ),\n",
    "    tf.keras.layers.GlobalAveragePooling1D(),\n",
    "    tf.keras.layers.Dense(n_dense, activation='relu'),\n",
    "    tf.keras.layers.Dropout(drop_value),\n",
    "    tf.keras.layers.Dense(1, activation='sigmoid')\n",
    "])"
   ]
  },
  {
   "cell_type": "code",
   "execution_count": 71,
   "metadata": {},
   "outputs": [
    {
     "name": "stdout",
     "output_type": "stream",
     "text": [
      "Model: \"sequential\"\n",
      "_________________________________________________________________\n",
      " Layer (type)                Output Shape              Param #   \n",
      "=================================================================\n",
      " embedding (Embedding)       (None, 100, 16)           8000      \n",
      "                                                                 \n",
      " global_average_pooling1d (G  (None, 16)               0         \n",
      " lobalAveragePooling1D)                                          \n",
      "                                                                 \n",
      " dense (Dense)               (None, 24)                408       \n",
      "                                                                 \n",
      " dropout (Dropout)           (None, 24)                0         \n",
      "                                                                 \n",
      " dense_1 (Dense)             (None, 1)                 25        \n",
      "                                                                 \n",
      "=================================================================\n",
      "Total params: 8,433\n",
      "Trainable params: 8,433\n",
      "Non-trainable params: 0\n",
      "_________________________________________________________________\n"
     ]
    }
   ],
   "source": [
    "model.summary()"
   ]
  },
  {
   "cell_type": "code",
   "execution_count": 72,
   "metadata": {},
   "outputs": [],
   "source": [
    "model.compile(loss='binary_crossentropy', optimizer='adam', metrics=['acc'])"
   ]
  },
  {
   "cell_type": "code",
   "execution_count": 74,
   "metadata": {},
   "outputs": [
    {
     "data": {
      "text/plain": [
       "583      ham\n",
       "105      ham\n",
       "413      ham\n",
       "329      ham\n",
       "375      ham\n",
       "        ... \n",
       "324      ham\n",
       "1109    spam\n",
       "490      ham\n",
       "1146    spam\n",
       "1441    spam\n",
       "Name: label, Length: 1195, dtype: object"
      ]
     },
     "execution_count": 74,
     "metadata": {},
     "output_type": "execute_result"
    }
   ],
   "source": [
    "y_train"
   ]
  },
  {
   "cell_type": "code",
   "execution_count": 76,
   "metadata": {},
   "outputs": [
    {
     "name": "stdout",
     "output_type": "stream",
     "text": [
      "Epoch 1/30\n"
     ]
    },
    {
     "name": "stderr",
     "output_type": "stream",
     "text": [
      "2022-04-03 20:52:32.060974: I tensorflow/core/grappler/optimizers/custom_graph_optimizer_registry.cc:113] Plugin optimizer for device_type GPU is enabled.\n"
     ]
    },
    {
     "name": "stdout",
     "output_type": "stream",
     "text": [
      "38/38 - 2s - loss: 0.6906 - acc: 0.5280 - val_loss: 0.6879 - val_acc: 0.4849 - 2s/epoch - 45ms/step\n",
      "Epoch 2/30\n"
     ]
    },
    {
     "name": "stderr",
     "output_type": "stream",
     "text": [
      "2022-04-03 20:52:33.596165: I tensorflow/core/grappler/optimizers/custom_graph_optimizer_registry.cc:113] Plugin optimizer for device_type GPU is enabled.\n"
     ]
    },
    {
     "name": "stdout",
     "output_type": "stream",
     "text": [
      "38/38 - 1s - loss: 0.6838 - acc: 0.5305 - val_loss: 0.6785 - val_acc: 0.6020 - 522ms/epoch - 14ms/step\n",
      "Epoch 3/30\n",
      "38/38 - 1s - loss: 0.6713 - acc: 0.6778 - val_loss: 0.6600 - val_acc: 0.8060 - 513ms/epoch - 14ms/step\n",
      "Epoch 4/30\n",
      "38/38 - 0s - loss: 0.6421 - acc: 0.7983 - val_loss: 0.6190 - val_acc: 0.8763 - 498ms/epoch - 13ms/step\n",
      "Epoch 5/30\n",
      "38/38 - 0s - loss: 0.5925 - acc: 0.8268 - val_loss: 0.5626 - val_acc: 0.9030 - 494ms/epoch - 13ms/step\n",
      "Epoch 6/30\n",
      "38/38 - 0s - loss: 0.5261 - acc: 0.8678 - val_loss: 0.4884 - val_acc: 0.8997 - 498ms/epoch - 13ms/step\n",
      "Epoch 7/30\n",
      "38/38 - 0s - loss: 0.4546 - acc: 0.8946 - val_loss: 0.4149 - val_acc: 0.9064 - 496ms/epoch - 13ms/step\n",
      "Epoch 8/30\n",
      "38/38 - 0s - loss: 0.3913 - acc: 0.9105 - val_loss: 0.3511 - val_acc: 0.9164 - 492ms/epoch - 13ms/step\n",
      "Epoch 9/30\n",
      "38/38 - 0s - loss: 0.3353 - acc: 0.9172 - val_loss: 0.2989 - val_acc: 0.9365 - 493ms/epoch - 13ms/step\n",
      "Epoch 10/30\n",
      "38/38 - 0s - loss: 0.2922 - acc: 0.9155 - val_loss: 0.2603 - val_acc: 0.9298 - 496ms/epoch - 13ms/step\n",
      "Epoch 11/30\n",
      "38/38 - 0s - loss: 0.2634 - acc: 0.9247 - val_loss: 0.2299 - val_acc: 0.9465 - 493ms/epoch - 13ms/step\n",
      "Epoch 12/30\n",
      "38/38 - 1s - loss: 0.2382 - acc: 0.9339 - val_loss: 0.2075 - val_acc: 0.9465 - 500ms/epoch - 13ms/step\n",
      "Epoch 13/30\n",
      "38/38 - 1s - loss: 0.2207 - acc: 0.9347 - val_loss: 0.1856 - val_acc: 0.9532 - 521ms/epoch - 14ms/step\n",
      "Epoch 14/30\n",
      "38/38 - 0s - loss: 0.2036 - acc: 0.9331 - val_loss: 0.1688 - val_acc: 0.9565 - 495ms/epoch - 13ms/step\n",
      "Epoch 15/30\n",
      "38/38 - 0s - loss: 0.1877 - acc: 0.9397 - val_loss: 0.1542 - val_acc: 0.9532 - 493ms/epoch - 13ms/step\n",
      "Epoch 16/30\n",
      "38/38 - 0s - loss: 0.1705 - acc: 0.9515 - val_loss: 0.1412 - val_acc: 0.9565 - 488ms/epoch - 13ms/step\n",
      "Epoch 17/30\n",
      "38/38 - 0s - loss: 0.1641 - acc: 0.9565 - val_loss: 0.1300 - val_acc: 0.9666 - 483ms/epoch - 13ms/step\n",
      "Epoch 18/30\n",
      "38/38 - 0s - loss: 0.1512 - acc: 0.9531 - val_loss: 0.1209 - val_acc: 0.9666 - 483ms/epoch - 13ms/step\n",
      "Epoch 19/30\n",
      "38/38 - 0s - loss: 0.1423 - acc: 0.9582 - val_loss: 0.1110 - val_acc: 0.9632 - 480ms/epoch - 13ms/step\n",
      "Epoch 20/30\n",
      "38/38 - 0s - loss: 0.1345 - acc: 0.9640 - val_loss: 0.1066 - val_acc: 0.9766 - 486ms/epoch - 13ms/step\n",
      "Epoch 21/30\n",
      "38/38 - 1s - loss: 0.1373 - acc: 0.9565 - val_loss: 0.0995 - val_acc: 0.9699 - 513ms/epoch - 13ms/step\n",
      "Epoch 22/30\n",
      "38/38 - 1s - loss: 0.1165 - acc: 0.9657 - val_loss: 0.0938 - val_acc: 0.9666 - 518ms/epoch - 14ms/step\n",
      "Epoch 23/30\n",
      "38/38 - 1s - loss: 0.1167 - acc: 0.9674 - val_loss: 0.0902 - val_acc: 0.9699 - 517ms/epoch - 14ms/step\n",
      "Epoch 24/30\n",
      "38/38 - 1s - loss: 0.1141 - acc: 0.9623 - val_loss: 0.0894 - val_acc: 0.9632 - 508ms/epoch - 13ms/step\n",
      "Epoch 25/30\n",
      "38/38 - 0s - loss: 0.1042 - acc: 0.9690 - val_loss: 0.0840 - val_acc: 0.9699 - 481ms/epoch - 13ms/step\n",
      "Epoch 26/30\n",
      "38/38 - 0s - loss: 0.0934 - acc: 0.9732 - val_loss: 0.0821 - val_acc: 0.9732 - 482ms/epoch - 13ms/step\n",
      "Epoch 27/30\n",
      "38/38 - 0s - loss: 0.0945 - acc: 0.9724 - val_loss: 0.0796 - val_acc: 0.9732 - 481ms/epoch - 13ms/step\n",
      "Epoch 28/30\n",
      "38/38 - 0s - loss: 0.0918 - acc: 0.9741 - val_loss: 0.0775 - val_acc: 0.9732 - 484ms/epoch - 13ms/step\n",
      "Epoch 29/30\n",
      "38/38 - 1s - loss: 0.0872 - acc: 0.9699 - val_loss: 0.0771 - val_acc: 0.9766 - 501ms/epoch - 13ms/step\n",
      "Epoch 30/30\n",
      "38/38 - 0s - loss: 0.0881 - acc: 0.9724 - val_loss: 0.0746 - val_acc: 0.9699 - 486ms/epoch - 13ms/step\n"
     ]
    }
   ],
   "source": [
    "n_epochs = 30\n",
    "\n",
    "history = model.fit(train_seq_padded, y_train, epochs=n_epochs, validation_data=(test_seq_padded, y_test), verbose=2)"
   ]
  },
  {
   "cell_type": "code",
   "execution_count": 78,
   "metadata": {},
   "outputs": [
    {
     "name": "stdout",
     "output_type": "stream",
     "text": [
      "10/10 [==============================] - 0s 6ms/step - loss: 0.0746 - acc: 0.9699\n"
     ]
    },
    {
     "data": {
      "text/plain": [
       "[0.07457628101110458, 0.9698996543884277]"
      ]
     },
     "execution_count": 78,
     "metadata": {},
     "output_type": "execute_result"
    }
   ],
   "source": [
    "model.evaluate(test_seq_padded, y_test)"
   ]
  },
  {
   "cell_type": "code",
   "execution_count": 91,
   "metadata": {},
   "outputs": [],
   "source": [
    "acc = history.history['acc']\n",
    "val_acc = history.history['val_acc']\n",
    "\n",
    "loss = history.history['loss']\n",
    "val_loss = history.history['val_loss']"
   ]
  },
  {
   "cell_type": "code",
   "execution_count": 98,
   "metadata": {},
   "outputs": [
    {
     "data": {
      "text/plain": [
       "[Text(0.5, 0, 'Epochs'), Text(0, 0.5, 'Accuracy')]"
      ]
     },
     "execution_count": 98,
     "metadata": {},
     "output_type": "execute_result"
    },
    {
     "data": {
      "image/png": "[encoded data removed]",
      "text/plain": [
       "<Figure size 864x576 with 2 Axes>"
      ]
     },
     "metadata": {},
     "output_type": "display_data"
    }
   ],
   "source": [
    "epochs = range(1, len(acc) + 1)\n",
    "\n",
    "fig, ax = plt.subplots(1, 2, constrained_layout=True, figsize=(12, 8))\n",
    "plt.style.use('seaborn')\n",
    "\n",
    "ax[0].plot(epochs, acc, label='Training')\n",
    "ax[0].plot(epochs, val_acc, label='Validation')\n",
    "ax[0].grid(alpha=0.3)\n",
    "ax[0].title.set_text('trainig vs. validation accuracy')\n",
    "ax[0].fill_between(epochs, acc, val_acc, color='crimson', alpha=0.3)\n",
    "plt.setp(ax[0], xlabel='Epochs', ylabel='Accuracy')\n",
    "\n",
    "ax[1].plot(epochs, loss, label='Training')\n",
    "ax[1].plot(epochs, val_loss, label='Validation')\n",
    "ax[1].grid(alpha=0.3)\n",
    "ax[1].title.set_text('trainig vs. validation loss')\n",
    "ax[1].fill_between(epochs, loss, val_loss, color='crimson', alpha=0.3)\n",
    "plt.setp(ax[0], xlabel='Epochs', ylabel='Accuracy')"
   ]
  }
 ],
 "metadata": {
  "interpreter": {
   "hash": "195c831148d18ee3f2dcc4deda713087ca038a24c82777bbcdd0aeebd7542329"
  },
  "kernelspec": {
   "display_name": "Python 3.9.10 ('base')",
   "language": "python",
   "name": "python3"
  },
  "language_info": {
   "codemirror_mode": {
    "name": "ipython",
    "version": 3
   },
   "file_extension": ".py",
   "mimetype": "text/x-python",
   "name": "python",
   "nbconvert_exporter": "python",
   "pygments_lexer": "ipython3",
   "version": "3.9.10"
  },
  "orig_nbformat": 4
 },
 "nbformat": 4,
 "nbformat_minor": 2
}
